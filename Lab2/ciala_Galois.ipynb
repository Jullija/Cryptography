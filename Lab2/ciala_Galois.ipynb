{
 "cells": [
  {
   "cell_type": "markdown",
   "id": "d91341b6",
   "metadata": {},
   "source": [
    "# Arytmetyka w ciałach Galois\n",
    "\n",
    "## Co to jest ciało Galois?\n",
    "\n",
    "**Ciałem Galois** nazywamy ciało $(G,+,\\cdot)$ o skończonej liczbie elementów. Najprostszym przykładem takiego ciała są $\\mathbb{Z}_p$, gdzie $p$ jest liczbą pierwszą. *Rzędem* ciała skończonego nazywamy liczbę jego elementów. Ciała skończone tego samego rzędu są izomorficzne.\n",
    "\n",
    "Kolejnym ważnym przykładem ciała Galois jest pierścień ilorazowy $\\mathbb{Z}_p[X]/W(X)$, gdzie $p$ jest liczbą pierwszą a $W$ jest nierozkładalnym wielomianem monicznym stopnia $n$.\n",
    "\n",
    "## Pierścień $\\mathbb{Z}_n$\n",
    "\n",
    "W ciele $\\mathbb{Z}$ wprowadzamy relację równoważności $\\mod n$ (gdzie $n$ jest ustaloną dodatnią liczbą naturalną):\n",
    "$$a\\equiv_n b\\Leftrightarrow [a]_n=[b]_n$$\n",
    "gdzie $[]_n$ oznacza resztę z dzielenia przez $n$.\n",
    "\n",
    "Arytmetyka $\\mod n$:$$a+b=[a+b]_n$$ $$ab=[ab]_n$$\n",
    "\n",
    "**Pierwiastkiem pierwotnym** $\\mod n$ nazywamy liczbę, której potęgi $\\mod n$ dają wszystkie reszty z dzielenia przez $n$, które są względnie pierwsze z $n$. Pierwiastek pierwotny istnieje tylko dla następujących $n$:\n",
    "- $n=p^k$, gdzie $p$ jest liczbą pierwszą różną od 2\n",
    "- $n=2p^k$, gdzie $p$ - j.w.\n",
    "- $n=2$ lub $n=4$"
   ]
  },
  {
   "cell_type": "markdown",
   "id": "f796ef8e",
   "metadata": {},
   "source": [
    "### Sage math:\n",
    "Konstruujemy pierścień `R=Integers(n)` lub `R=IntegerModRing(n)`, gdzie za `n` podajemy ustaloną liczbę naturalną. Jeżeli chcemy poznać postać liczby `x` w tym pierścieniu, to piszemy `R(x)`. Inną opcją jest funkcja `mod(x,n)`"
   ]
  },
  {
   "cell_type": "code",
   "execution_count": null,
   "id": "b4db6339",
   "metadata": {},
   "outputs": [],
   "source": [
    "R=Integers(3)\n",
    "x=R(4)\n",
    "print(x)\n",
    "print(type(x))"
   ]
  },
  {
   "cell_type": "code",
   "execution_count": null,
   "id": "86859c0a",
   "metadata": {},
   "outputs": [],
   "source": [
    "R(2+7)"
   ]
  },
  {
   "cell_type": "code",
   "execution_count": null,
   "id": "84417cfd",
   "metadata": {},
   "outputs": [],
   "source": [
    "R(2*4)"
   ]
  },
  {
   "cell_type": "code",
   "execution_count": null,
   "id": "259e5571",
   "metadata": {},
   "outputs": [],
   "source": [
    "RR=IntegerModRing(5)\n",
    "x=RR(10)\n",
    "print(x)\n",
    "print(type(x))"
   ]
  },
  {
   "cell_type": "code",
   "execution_count": null,
   "id": "7cadde47",
   "metadata": {},
   "outputs": [],
   "source": [
    "x=mod(10,4)\n",
    "print(x)\n",
    "print(type(x))"
   ]
  },
  {
   "cell_type": "markdown",
   "id": "5b8ac8e6",
   "metadata": {},
   "source": [
    "Pierwiastki pierwotne w Sage znajdujemy funkcją `primitive_root(n)`."
   ]
  },
  {
   "cell_type": "code",
   "execution_count": null,
   "id": "5c1b2de3",
   "metadata": {},
   "outputs": [],
   "source": [
    "x=primitive_root(7)\n",
    "print(x)\n",
    "print(type(x))"
   ]
  },
  {
   "cell_type": "code",
   "execution_count": null,
   "id": "ed1f74d5",
   "metadata": {},
   "outputs": [],
   "source": [
    "primitive_root(5)"
   ]
  },
  {
   "cell_type": "markdown",
   "id": "76290854",
   "metadata": {},
   "source": [
    "### python:"
   ]
  },
  {
   "cell_type": "markdown",
   "id": "d1feb566",
   "metadata": {},
   "source": [
    "W pythonie nie poszalejemy - operator `%` zwraca resztę z dzielenia. I to tyle. Funkcje do arytmetyki mod $n$ można znaleźć w module SymPy."
   ]
  },
  {
   "cell_type": "code",
   "execution_count": null,
   "id": "627d5866",
   "metadata": {},
   "outputs": [],
   "source": [
    "x=5%2\n",
    "print(x)\n",
    "print(type(x))"
   ]
  },
  {
   "cell_type": "markdown",
   "id": "67bf52cb",
   "metadata": {},
   "source": [
    "## Zadanie 1.\n",
    "Zaimplementować w pythonie funkcję `prim_root(n)` znajdującą pierwiastki pierwotne mod $n$. Jeżeli taki pierwiastek nie istnieje funkcja ma zwrócić 0. Jeżeli takich pierwiastków jest więcej funkcja ma zwrócić najmniejszy z nich."
   ]
  },
  {
   "cell_type": "code",
   "execution_count": 25,
   "id": "42d030cb",
   "metadata": {},
   "outputs": [],
   "source": [
    "import math\n",
    "\n",
    "\n",
    "def prim_root(n):\n",
    "    roots = []\n",
    "    required_set = set(num for num in range (1, n) if math.gcd(num,n) == 1)\n",
    "\n",
    "    for g in range(1, n):\n",
    "        actual_set = set(pow(g, powers) % n for powers in range (1, n))\n",
    "        if required_set == actual_set:\n",
    "            roots.append(g)  \n",
    "   \n",
    "    return roots[0] if roots else 0\n",
    "    "
   ]
  },
  {
   "cell_type": "code",
   "execution_count": 26,
   "id": "30843298",
   "metadata": {},
   "outputs": [],
   "source": [
    "#TESTY\n",
    "try:\n",
    "    assert prim_root(7)==3\n",
    "    assert prim_root(15)==0\n",
    "    assert prim_root(26)==7\n",
    "except:\n",
    "    print('Próbuj dalej')\n",
    "    raise"
   ]
  },
  {
   "cell_type": "markdown",
   "id": "4ef37075",
   "metadata": {},
   "source": [
    "## Zadanie 2.\n",
    "\n",
    "Zaimplementować w Pythonie klasę `Z7()`, której obiekty to pierścienie reszt z dzielenia przez 7. Przeładować operatory `+`, `-`, `*`, aby na obiektach klasy wykonywały działania mod 7 oraz metodę `__repr__`."
   ]
  },
  {
   "cell_type": "code",
   "execution_count": 16,
   "id": "a7e92b65",
   "metadata": {},
   "outputs": [],
   "source": [
    "class Z7:\n",
    "    \n",
    "    def __init__(self, number):\n",
    "        self.number = number % 7\n",
    "        \n",
    "        \n",
    "    def __add__(self1, self2): \n",
    "        return Z7(self1.number + self2.number)\n",
    "    \n",
    "\n",
    "    def __sub__(self1, self2):\n",
    "        return Z7(self1.number - self2.number)\n",
    "    \n",
    "    \n",
    "    def __mul__(self1, self2):\n",
    "        return Z7(self1.number * self2.number)\n",
    "    \n",
    "    \n",
    "    def __repr__(self):\n",
    "        return str(self.number)\n",
    "        \n",
    "    \n",
    "    "
   ]
  },
  {
   "cell_type": "code",
   "execution_count": 17,
   "id": "f9dece7e",
   "metadata": {},
   "outputs": [
    {
     "name": "stdout",
     "output_type": "stream",
     "text": [
      "2 3 0\n",
      "2 6\n"
     ]
    }
   ],
   "source": [
    "#TESTY\n",
    "\n",
    "x=Z7(2)\n",
    "y=Z7(10)\n",
    "z=Z7(14)\n",
    "\n",
    "print(x,y,z)\n",
    "#2 3 0\n",
    "print(x+z, x*y)\n",
    "#2 6"
   ]
  },
  {
   "cell_type": "markdown",
   "id": "812b4993",
   "metadata": {},
   "source": [
    "### Wymiana klucza typu Diffie-Hellman z wykorzystaniem pierwiastka pierwotnego\n",
    "\n",
    "Alice i Bob uzgadniają klucz publiczny będący liczbą pierwszą $p$ oraz $q$ - pierwiastkiem pierwotnym mod $p$.\n",
    "- sekret Alice: liczba całkowita $n\\in (0,p)$\n",
    "- sekret Boba: liczba całkowita $m\\in (0,p)$\n",
    "- Alice generuje $x=q^n$ i wysyła do Boba\n",
    "- Bob generuje $y=q^m$ i wysyła Alice\n",
    "- Alice oblicza klucz $k=y^n$\n",
    "- Bob oblicza klucz $k=x^m$\n",
    "\n",
    "Użycie pierwiastka pierwotnego gwarantuje, że wielkość klucza $k$ nie przekroczy $p-1$."
   ]
  },
  {
   "cell_type": "markdown",
   "id": "076f56f9",
   "metadata": {},
   "source": [
    "## Zadanie 3.\n",
    "\n",
    "Zaimplementuj w Sage lub pythonie powyższy prosty algorytm wymiany klucza. Przyda się funkcja `random_prime()` (Sage) oraz `randint()`."
   ]
  },
  {
   "cell_type": "code",
   "execution_count": 31,
   "id": "7ec7af0b",
   "metadata": {},
   "outputs": [
    {
     "ename": "KeyboardInterrupt",
     "evalue": "",
     "output_type": "error",
     "traceback": [
      "\u001b[0;31m---------------------------------------------------------------------------\u001b[0m",
      "\u001b[0;31mKeyboardInterrupt\u001b[0m                         Traceback (most recent call last)",
      "Cell \u001b[0;32mIn[31], line 23\u001b[0m\n\u001b[1;32m     21\u001b[0m \u001b[38;5;28;01mwhile\u001b[39;00m \u001b[38;5;129;01mnot\u001b[39;00m is_prime(p):\n\u001b[1;32m     22\u001b[0m     p \u001b[38;5;241m=\u001b[39m random\u001b[38;5;241m.\u001b[39mrandint(\u001b[38;5;241m1024\u001b[39m, \u001b[38;5;241m10000\u001b[39m)  \n\u001b[0;32m---> 23\u001b[0m q \u001b[38;5;241m=\u001b[39m \u001b[43mprim_root\u001b[49m\u001b[43m(\u001b[49m\u001b[43mp\u001b[49m\u001b[43m)\u001b[49m \n\u001b[1;32m     24\u001b[0m \u001b[38;5;28mprint\u001b[39m( q)\n\u001b[1;32m     26\u001b[0m n \u001b[38;5;241m=\u001b[39m random\u001b[38;5;241m.\u001b[39mrandint(\u001b[38;5;241m1\u001b[39m, p)\n",
      "Cell \u001b[0;32mIn[25], line 9\u001b[0m, in \u001b[0;36mprim_root\u001b[0;34m(n)\u001b[0m\n\u001b[1;32m      6\u001b[0m required_set \u001b[38;5;241m=\u001b[39m \u001b[38;5;28mset\u001b[39m(num \u001b[38;5;28;01mfor\u001b[39;00m num \u001b[38;5;129;01min\u001b[39;00m \u001b[38;5;28mrange\u001b[39m (\u001b[38;5;241m1\u001b[39m, n) \u001b[38;5;28;01mif\u001b[39;00m math\u001b[38;5;241m.\u001b[39mgcd(num,n) \u001b[38;5;241m==\u001b[39m \u001b[38;5;241m1\u001b[39m)\n\u001b[1;32m      8\u001b[0m \u001b[38;5;28;01mfor\u001b[39;00m g \u001b[38;5;129;01min\u001b[39;00m \u001b[38;5;28mrange\u001b[39m(\u001b[38;5;241m1\u001b[39m, n):\n\u001b[0;32m----> 9\u001b[0m     actual_set \u001b[38;5;241m=\u001b[39m \u001b[38;5;28;43mset\u001b[39;49m\u001b[43m(\u001b[49m\u001b[38;5;28;43mpow\u001b[39;49m\u001b[43m(\u001b[49m\u001b[43mg\u001b[49m\u001b[43m,\u001b[49m\u001b[43m \u001b[49m\u001b[43mpowers\u001b[49m\u001b[43m)\u001b[49m\u001b[43m \u001b[49m\u001b[38;5;241;43m%\u001b[39;49m\u001b[43m \u001b[49m\u001b[43mn\u001b[49m\u001b[43m \u001b[49m\u001b[38;5;28;43;01mfor\u001b[39;49;00m\u001b[43m \u001b[49m\u001b[43mpowers\u001b[49m\u001b[43m \u001b[49m\u001b[38;5;129;43;01min\u001b[39;49;00m\u001b[43m \u001b[49m\u001b[38;5;28;43mrange\u001b[39;49m\u001b[43m \u001b[49m\u001b[43m(\u001b[49m\u001b[38;5;241;43m1\u001b[39;49m\u001b[43m,\u001b[49m\u001b[43m \u001b[49m\u001b[43mn\u001b[49m\u001b[43m)\u001b[49m\u001b[43m)\u001b[49m\n\u001b[1;32m     10\u001b[0m     \u001b[38;5;28;01mif\u001b[39;00m required_set \u001b[38;5;241m==\u001b[39m actual_set:\n\u001b[1;32m     11\u001b[0m         roots\u001b[38;5;241m.\u001b[39mappend(g)  \n",
      "Cell \u001b[0;32mIn[25], line 9\u001b[0m, in \u001b[0;36m<genexpr>\u001b[0;34m(.0)\u001b[0m\n\u001b[1;32m      6\u001b[0m required_set \u001b[38;5;241m=\u001b[39m \u001b[38;5;28mset\u001b[39m(num \u001b[38;5;28;01mfor\u001b[39;00m num \u001b[38;5;129;01min\u001b[39;00m \u001b[38;5;28mrange\u001b[39m (\u001b[38;5;241m1\u001b[39m, n) \u001b[38;5;28;01mif\u001b[39;00m math\u001b[38;5;241m.\u001b[39mgcd(num,n) \u001b[38;5;241m==\u001b[39m \u001b[38;5;241m1\u001b[39m)\n\u001b[1;32m      8\u001b[0m \u001b[38;5;28;01mfor\u001b[39;00m g \u001b[38;5;129;01min\u001b[39;00m \u001b[38;5;28mrange\u001b[39m(\u001b[38;5;241m1\u001b[39m, n):\n\u001b[0;32m----> 9\u001b[0m     actual_set \u001b[38;5;241m=\u001b[39m \u001b[38;5;28mset\u001b[39m(\u001b[38;5;28;43mpow\u001b[39;49m\u001b[43m(\u001b[49m\u001b[43mg\u001b[49m\u001b[43m,\u001b[49m\u001b[43m \u001b[49m\u001b[43mpowers\u001b[49m\u001b[43m)\u001b[49m \u001b[38;5;241m%\u001b[39m n \u001b[38;5;28;01mfor\u001b[39;00m powers \u001b[38;5;129;01min\u001b[39;00m \u001b[38;5;28mrange\u001b[39m (\u001b[38;5;241m1\u001b[39m, n))\n\u001b[1;32m     10\u001b[0m     \u001b[38;5;28;01mif\u001b[39;00m required_set \u001b[38;5;241m==\u001b[39m actual_set:\n\u001b[1;32m     11\u001b[0m         roots\u001b[38;5;241m.\u001b[39mappend(g)  \n",
      "\u001b[0;31mKeyboardInterrupt\u001b[0m: "
     ]
    }
   ],
   "source": [
    "import random\n",
    "\n",
    "def is_prime(n):\n",
    "    if n <= 1:\n",
    "        return False\n",
    "    elif n <= 3:\n",
    "        return True\n",
    "    elif n % 2 == 0 or n % 3 == 0:\n",
    "        return False\n",
    "\n",
    "    i = 5\n",
    "    while i * i <= n:\n",
    "        if n % i == 0 or n % (i + 2) == 0:\n",
    "            return False\n",
    "        i += 6\n",
    "\n",
    "    return True\n",
    "\n",
    "\n",
    "p = random.randint(1024, 10000)\n",
    "while not is_prime(p):\n",
    "    p = random.randint(1024, 10000)  \n",
    "q = prim_root(p) \n",
    "print(q)\n",
    "\n",
    "n = random.randint(1, p)\n",
    "x = (q**n)%p\n",
    "\n",
    "m = random.randint(1, p)\n",
    "y = (q**m)%p\n",
    "\n",
    "Ak = (y**n)%p\n",
    "Bk = (x**m)%p\n",
    "\n",
    "print(Ak, Bk)\n",
    "    "
   ]
  },
  {
   "cell_type": "markdown",
   "id": "0750ef60",
   "metadata": {},
   "source": [
    "## Pierścienie ilorazowe wielomianów\n",
    "\n",
    "Aby utworzyć pierścień ilorazowy $\\mathbb{Z}_n[X]/W(X)$ w Sage musimy najpierw utworzyć $\\mathbb{Z}_n[X]$, czyli pierścień wielomianów o współczynnikach z $\\mathbb{Z}_n$:\n",
    "\n",
    "`R=PolynomialRing(Integers(n),'X')`\n",
    "\n",
    "Jeżeli w dalszej części kodu mamy zamiar korzystać z wielomianów z tego pierścienia, to dobrze jest rozdzielić nazewnictwo zmiennych niezależnych\n",
    "\n",
    "`X=R.gen()`\n",
    "\n",
    "Teraz każdy wielomian zmiennej `X` będzie przez Sage traktowany jako element pierścienia `R`."
   ]
  },
  {
   "cell_type": "code",
   "execution_count": null,
   "id": "2a8a7cb1",
   "metadata": {},
   "outputs": [],
   "source": [
    "R=PolynomialRing(Integers(5),'X')\n",
    "X=R.gen()\n",
    "\n",
    "X^6-13*X^4+12*X^2-10*X+6"
   ]
  },
  {
   "cell_type": "markdown",
   "id": "f606fdb6",
   "metadata": {},
   "source": [
    "Pierścień ilorazowy tworzymy metodą `R.quotient(W,'x')`, gdzie `W` jest dowolnym wielomianem. Podobnie jak poprzednio dobrze jest od razu zdefiniować `x` jako zmienną niezależną wielomianów z nowego pierścienia."
   ]
  },
  {
   "cell_type": "code",
   "execution_count": null,
   "id": "c276fa4e",
   "metadata": {},
   "outputs": [],
   "source": [
    "Rq=R.quotient(X^4+1,'x')\n",
    "x=Rq.gen()\n",
    "\n",
    "x^6-13*x^4+12*x^2-10*x+6"
   ]
  },
  {
   "cell_type": "code",
   "execution_count": null,
   "id": "04a7edfb",
   "metadata": {},
   "outputs": [],
   "source": [
    "w1=7*x^6+14\n",
    "w2=24*x^4-5*x^2-7*x+13\n",
    "\n",
    "expand(w1*w2)"
   ]
  },
  {
   "cell_type": "markdown",
   "id": "af84fcfa",
   "metadata": {},
   "source": [
    "## Zadanie 4.\n",
    "\n",
    "Zaimplementować w pythonie arytmetykę pierścienia ilorazowego wielomianów utożsamiając wielomian z wektorem współczynników przy poszczególnych potęgach."
   ]
  },
  {
   "cell_type": "code",
   "execution_count": null,
   "id": "61363922",
   "metadata": {},
   "outputs": [],
   "source": [
    "import numpy"
   ]
  }
 ],
 "metadata": {
  "kernelspec": {
   "display_name": "Python 3.10.1 64-bit",
   "language": "python",
   "name": "python3"
  },
  "language_info": {
   "codemirror_mode": {
    "name": "ipython",
    "version": 3
   },
   "file_extension": ".py",
   "mimetype": "text/x-python",
   "name": "python",
   "nbconvert_exporter": "python",
   "pygments_lexer": "ipython3",
   "version": "3.10.1"
  },
  "vscode": {
   "interpreter": {
    "hash": "aee8b7b246df8f9039afb4144a1f6fd8d2ca17a180786b69acc140d282b71a49"
   }
  }
 },
 "nbformat": 4,
 "nbformat_minor": 5
}
